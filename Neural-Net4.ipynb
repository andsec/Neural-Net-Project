{
 "cells": [
  {
   "cell_type": "code",
   "execution_count": 1,
   "metadata": {},
   "outputs": [],
   "source": [
    "mutable struct NeuralNetwork\n",
    "    weights::Array{Array{Real,2},1}\n",
    "    biases::Array{Array{Real,1},1}\n",
    "end"
   ]
  },
  {
   "cell_type": "code",
   "execution_count": 2,
   "metadata": {},
   "outputs": [
    {
     "data": {
      "text/plain": [
       "createNetwork! (generic function with 1 method)"
      ]
     },
     "execution_count": 2,
     "metadata": {},
     "output_type": "execute_result"
    }
   ],
   "source": [
    "# Function takes an empty network and a tuple of layers\n",
    "# to create bias vectors and weight matricies of \n",
    "# appropriate sizes\n",
    "\n",
    "function createNetwork!(network::NeuralNetwork,layers::Tuple)  \n",
    "    for i in 1:length(layers)-1\n",
    "        weightMatrix = randn(layers[i+1],layers[i])\n",
    "        push!(network.weights,weightMatrix)\n",
    "        biasVector = randn(layers[i+1])\n",
    "        push!(network.biases,biasVector)\n",
    "    end\n",
    " end"
   ]
  },
  {
   "cell_type": "code",
   "execution_count": 3,
   "metadata": {},
   "outputs": [
    {
     "data": {
      "text/plain": [
       "sigmoidPrime (generic function with 1 method)"
      ]
     },
     "execution_count": 3,
     "metadata": {},
     "output_type": "execute_result"
    }
   ],
   "source": [
    "sigmoid(x::Real) = 1/(1 + exp(-x))\n",
    "sigmoidPrime(x::Real) = sigmoid(x)*(1-sigmoid(x))"
   ]
  },
  {
   "cell_type": "code",
   "execution_count": 4,
   "metadata": {},
   "outputs": [
    {
     "data": {
      "text/plain": [
       "feedForward (generic function with 2 methods)"
      ]
     },
     "execution_count": 4,
     "metadata": {},
     "output_type": "execute_result"
    }
   ],
   "source": [
    "# Function takes a network and feeds an input vector through\n",
    "# to return lists of activations and z = (W*a + b)\n",
    "\n",
    "function feedForward(network::NeuralNetwork, input::Array{Real,1})\n",
    "    \n",
    "    a = input\n",
    "    activations = [a]\n",
    "    z::Array{Real,1} = []\n",
    "    zList::Array{Array{Real,1},1} = []\n",
    "    \n",
    "    for (W,b) in zip(network.weights, network.biases)\n",
    "        z = W*a + b\n",
    "        push!(zList, z)\n",
    "        a = sigmoid.(z)\n",
    "        push!(activations, a)\n",
    "    end\n",
    "    \n",
    "    return activations, zList\n",
    "end\n",
    "\n",
    "\n",
    "function feedForward(network::NeuralNetwork, input::Array{Float64,1})\n",
    "    \n",
    "    a = input\n",
    "    activations = [a]\n",
    "    z::Array{Real,1} = []\n",
    "    zList::Array{Array{Real,1},1} = []\n",
    "    \n",
    "    for (W,b) in zip(network.weights, network.biases)\n",
    "        z = W*a + b\n",
    "        push!(zList, z)\n",
    "        a = sigmoid.(z)\n",
    "        push!(activations, a)\n",
    "    end\n",
    "    \n",
    "    return activations, zList\n",
    "end"
   ]
  },
  {
   "cell_type": "code",
   "execution_count": 40,
   "metadata": {},
   "outputs": [
    {
     "data": {
      "text/plain": [
       "backPropagation (generic function with 3 methods)"
      ]
     },
     "execution_count": 40,
     "metadata": {},
     "output_type": "execute_result"
    }
   ],
   "source": [
    "using LinearAlgebra\n",
    "\n",
    "# Function takes a network, input, and label to compute gradients\n",
    "# for the network's weights and biases and returns these gradients \n",
    "# in lists\n",
    "\n",
    "function backPropagation(network::NeuralNetwork, input::Array{Number,1}, label::Array{Number,1})\n",
    "    nabla_w::Array{Array{Number,2},1} = [] # Array to hold weight gradients\n",
    "    nabla_b::Array{Array{Number,1},1} = [] # Array to hold bias gradients\n",
    "    aList, zList = feedForward(network, input)\n",
    "    delta = (aList[end] - label) .* sigmoidPrime.(zList[end])\n",
    "    pushfirst!(nabla_b, delta)\n",
    "    wDelta = delta * aList[end - 1]'\n",
    "    pushfirst!(nabla_w, wDelta)\n",
    "    \n",
    "    for i in 0:length(network.weights)-2\n",
    "        delta = (net.weights[end - i]' * delta) .* sigmoidPrime.(zList[end - i - 1])\n",
    "        pushfirst!(nabla_b, delta)\n",
    "        wDelta = delta * aList[end - i - 2]'\n",
    "        pushfirst!(nabla_w, wDelta)\n",
    "    end\n",
    "    \n",
    "    return nabla_b, nabla_w\n",
    "end\n",
    "\n",
    "\n",
    "function backPropagation(network::NeuralNetwork, input::Array{Real,1}, label::Array{Real,1})\n",
    "    nabla_w::Array{Array{Number,2},1} = [] # Array to hold weight gradients\n",
    "    nabla_b::Array{Array{Number,1},1} = [] # Array to hold bias gradients\n",
    "    aList, zList = feedForward(network, input)\n",
    "    delta = (aList[end] - label) .* sigmoidPrime.(zList[end])\n",
    "    pushfirst!(nabla_b, delta)\n",
    "    wDelta = delta * aList[end - 1]'\n",
    "    pushfirst!(nabla_w, wDelta)\n",
    "    \n",
    "    for i in 0:length(network.weights)-2\n",
    "        delta = (net.weights[end - i]' * delta) .* sigmoidPrime.(zList[end - i - 1])\n",
    "        pushfirst!(nabla_b, delta)\n",
    "        wDelta = delta * aList[end - i - 2]'\n",
    "        pushfirst!(nabla_w, wDelta)\n",
    "    end\n",
    "    \n",
    "    return nabla_b, nabla_w\n",
    "end\n",
    "\n",
    "\n",
    "function backPropagation(network::NeuralNetwork, input::Array, label::Array)\n",
    "    nabla_w::Array{Array{Number,2},1} = [] # Array to hold weight gradients\n",
    "    nabla_b::Array{Array{Number,1},1} = [] # Array to hold bias gradients\n",
    "    aList, zList = feedForward(network, input)\n",
    "    delta = (aList[end] - label) .* sigmoidPrime.(zList[end])\n",
    "    pushfirst!(nabla_b, delta)\n",
    "    wDelta = delta * aList[end - 1]'\n",
    "    pushfirst!(nabla_w, wDelta)\n",
    "    \n",
    "    for i in 0:length(network.weights)-2\n",
    "        delta = (net.weights[end - i]' * delta) .* sigmoidPrime.(zList[end - i - 1])\n",
    "        pushfirst!(nabla_b, delta)\n",
    "        wDelta = delta * aList[end - i - 2]'\n",
    "        pushfirst!(nabla_w, wDelta)\n",
    "    end\n",
    "    \n",
    "    return nabla_b, nabla_w\n",
    "end"
   ]
  },
  {
   "cell_type": "code",
   "execution_count": 6,
   "metadata": {},
   "outputs": [
    {
     "data": {
      "text/plain": [
       "NeuralNetwork(Array{Real,2}[], Array{Real,1}[])"
      ]
     },
     "execution_count": 6,
     "metadata": {},
     "output_type": "execute_result"
    }
   ],
   "source": [
    "a = []\n",
    "b = []\n",
    "net = NeuralNetwork(a,b)"
   ]
  },
  {
   "cell_type": "code",
   "execution_count": 7,
   "metadata": {},
   "outputs": [],
   "source": [
    "createNetwork!(net,(10,5,10))"
   ]
  },
  {
   "cell_type": "code",
   "execution_count": 10,
   "metadata": {},
   "outputs": [
    {
     "data": {
      "text/plain": [
       "10-element Array{Float64,1}:\n",
       "  0.2196170358776079\n",
       " -0.8855271898683541\n",
       "  1.342186450524515 \n",
       " -0.7041534364947981\n",
       "  0.8456106796259508\n",
       " -0.8984460687011259\n",
       "  0.5524131258975675\n",
       "  1.1883061674269495\n",
       " -1.219061698865228 \n",
       " -0.6640731523705218"
      ]
     },
     "execution_count": 10,
     "metadata": {},
     "output_type": "execute_result"
    }
   ],
   "source": [
    "t = randn(10)"
   ]
  },
  {
   "cell_type": "code",
   "execution_count": 13,
   "metadata": {},
   "outputs": [
    {
     "data": {
      "text/plain": [
       "10-element Array{Int64,1}:\n",
       " 0\n",
       " 0\n",
       " 0\n",
       " 0\n",
       " 1\n",
       " 0\n",
       " 0\n",
       " 0\n",
       " 0\n",
       " 0"
      ]
     },
     "execution_count": 13,
     "metadata": {},
     "output_type": "execute_result"
    }
   ],
   "source": [
    "c = [0,0,0,0,1,0,0,0,0,0]"
   ]
  },
  {
   "cell_type": "code",
   "execution_count": 45,
   "metadata": {},
   "outputs": [
    {
     "name": "stdout",
     "output_type": "stream",
     "text": [
      "net.weights[2] = Real[0.805674 0.408197 1.51934 0.329634 -0.565261; -1.13514 -0.701689 -0.0339794 -0.230671 0.355268; 0.577364 -1.50637 0.137384 -0.0133647 2.02172; -0.0596838 0.00800175 0.933155 0.649811 -0.804625; -1.14738 -0.384485 -0.627831 -0.495935 -0.416951; -0.436488 -0.436615 -0.350754 0.614598 0.00742568; 0.613089 -0.513793 0.973992 -1.17977 0.183279; 0.452561 -0.787911 -0.202326 0.654447 -1.06592; -0.728636 -0.377737 0.173685 0.602746 -1.8291; 0.193089 0.159089 0.652933 0.126049 -0.677843]\n"
     ]
    },
    {
     "data": {
      "text/plain": [
       "10×5 Array{Real,2}:\n",
       "  0.805674    0.408197     1.51934     0.329634   -0.565261  \n",
       " -1.13514    -0.701689    -0.0339794  -0.230671    0.355268  \n",
       "  0.577364   -1.50637      0.137384   -0.0133647   2.02172   \n",
       " -0.0596838   0.00800175   0.933155    0.649811   -0.804625  \n",
       " -1.14738    -0.384485    -0.627831   -0.495935   -0.416951  \n",
       " -0.436488   -0.436615    -0.350754    0.614598    0.00742568\n",
       "  0.613089   -0.513793     0.973992   -1.17977     0.183279  \n",
       "  0.452561   -0.787911    -0.202326    0.654447   -1.06592   \n",
       " -0.728636   -0.377737     0.173685    0.602746   -1.8291    \n",
       "  0.193089    0.159089     0.652933    0.126049   -0.677843  "
      ]
     },
     "execution_count": 45,
     "metadata": {},
     "output_type": "execute_result"
    }
   ],
   "source": [
    "@show net.weights[2]"
   ]
  },
  {
   "cell_type": "code",
   "execution_count": 12,
   "metadata": {},
   "outputs": [
    {
     "name": "stdout",
     "output_type": "stream",
     "text": [
      "net.biases = Array{Real,1}[[0.331553, -0.935503, 0.058177, -0.509424, -0.533277], [0.497434, -1.64251, 1.10286, -0.00158047, -0.393814, 0.737307, -1.10983, 0.449483, 0.210482, -0.914296]]\n"
     ]
    },
    {
     "data": {
      "text/plain": [
       "2-element Array{Array{Real,1},1}:\n",
       " [0.331553, -0.935503, 0.058177, -0.509424, -0.533277]                                                   \n",
       " [0.497434, -1.64251, 1.10286, -0.00158047, -0.393814, 0.737307, -1.10983, 0.449483, 0.210482, -0.914296]"
      ]
     },
     "execution_count": 12,
     "metadata": {},
     "output_type": "execute_result"
    }
   ],
   "source": [
    "@show net.biases"
   ]
  },
  {
   "cell_type": "code",
   "execution_count": 41,
   "metadata": {},
   "outputs": [
    {
     "data": {
      "text/plain": [
       "(Array{Number,1}[[0.0473864, -0.0895353, 0.0779634, 0.0161411, -0.0402201], [0.100812, 0.0027078, 0.142007, 0.148119, -0.09069, 0.148075, 0.0167461, 0.148147, 0.116499, 0.0869599]], Array{Number,2}[[0.0104069 -0.041962 … -0.057767 -0.031468; -0.0196635 0.0792859 … 0.109149 0.059458; … ; 0.00354486 -0.0142934 … -0.019677 -0.0107189; -0.00883303 0.035616 … 0.0490308 0.0267091], [0.0618984 0.0525069 … 0.0967897 0.0178463; 0.00166258 0.00141033 … 0.00259975 0.000479349; … ; 0.07153 0.0606772 … 0.111851 0.0206233; 0.053393 0.045292 … 0.0834899 0.0153941]])"
      ]
     },
     "execution_count": 41,
     "metadata": {},
     "output_type": "execute_result"
    }
   ],
   "source": [
    "b, w = backPropagation(net,t,c)"
   ]
  },
  {
   "cell_type": "code",
   "execution_count": 42,
   "metadata": {},
   "outputs": [
    {
     "name": "stdout",
     "output_type": "stream",
     "text": [
      "b = Array{Number,1}[[0.0473864, -0.0895353, 0.0779634, 0.0161411, -0.0402201], [0.100812, 0.0027078, 0.142007, 0.148119, -0.09069, 0.148075, 0.0167461, 0.148147, 0.116499, 0.0869599]]\n"
     ]
    },
    {
     "data": {
      "text/plain": [
       "2-element Array{Array{Number,1},1}:\n",
       " [0.0473864, -0.0895353, 0.0779634, 0.0161411, -0.0402201]                                              \n",
       " [0.100812, 0.0027078, 0.142007, 0.148119, -0.09069, 0.148075, 0.0167461, 0.148147, 0.116499, 0.0869599]"
      ]
     },
     "execution_count": 42,
     "metadata": {},
     "output_type": "execute_result"
    }
   ],
   "source": [
    "@show b"
   ]
  },
  {
   "cell_type": "code",
   "execution_count": 48,
   "metadata": {},
   "outputs": [
    {
     "name": "stdout",
     "output_type": "stream",
     "text": [
      "w[2] = Number[0.0618984 0.0525069 0.0291697 0.0967897 0.0178463; 0.00166258 0.00141033 0.000783491 0.00259975 0.000479349; 0.0871916 0.0739625 0.0410891 0.13634 0.0251388; 0.0909445 0.0771461 0.0428577 0.142209 0.0262208; -0.0556833 -0.0472348 -0.0262408 -0.0870712 -0.0160544; 0.0909172 0.0771229 0.0428448 0.142166 0.026213; 0.0102821 0.00872202 0.00484542 0.0160779 0.00296449; 0.0909616 0.0771605 0.0428657 0.142235 0.0262257; 0.07153 0.0606772 0.0337086 0.111851 0.0206233; 0.053393 0.045292 0.0251615 0.0834899 0.0153941]\n"
     ]
    },
    {
     "data": {
      "text/plain": [
       "10×5 Array{Number,2}:\n",
       "  0.0618984    0.0525069    0.0291697     0.0967897    0.0178463  \n",
       "  0.00166258   0.00141033   0.000783491   0.00259975   0.000479349\n",
       "  0.0871916    0.0739625    0.0410891     0.13634      0.0251388  \n",
       "  0.0909445    0.0771461    0.0428577     0.142209     0.0262208  \n",
       " -0.0556833   -0.0472348   -0.0262408    -0.0870712   -0.0160544  \n",
       "  0.0909172    0.0771229    0.0428448     0.142166     0.026213   \n",
       "  0.0102821    0.00872202   0.00484542    0.0160779    0.00296449 \n",
       "  0.0909616    0.0771605    0.0428657     0.142235     0.0262257  \n",
       "  0.07153      0.0606772    0.0337086     0.111851     0.0206233  \n",
       "  0.053393     0.045292     0.0251615     0.0834899    0.0153941  "
      ]
     },
     "execution_count": 48,
     "metadata": {},
     "output_type": "execute_result"
    }
   ],
   "source": [
    "@show w[2]"
   ]
  },
  {
   "cell_type": "code",
   "execution_count": null,
   "metadata": {},
   "outputs": [],
   "source": []
  }
 ],
 "metadata": {
  "kernelspec": {
   "display_name": "Julia 1.0.3",
   "language": "julia",
   "name": "julia-1.0"
  },
  "language_info": {
   "file_extension": ".jl",
   "mimetype": "application/julia",
   "name": "julia",
   "version": "1.0.3"
  }
 },
 "nbformat": 4,
 "nbformat_minor": 2
}
