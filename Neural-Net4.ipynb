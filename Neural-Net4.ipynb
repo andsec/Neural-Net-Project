{
 "cells": [
  {
   "cell_type": "code",
   "execution_count": 5,
   "metadata": {},
   "outputs": [],
   "source": [
    "mutable struct NeuralNetwork\n",
    "    weights::Array{Array{Real,2},1}\n",
    "    biases::Array{Array{Real,1},1}\n",
    "end"
   ]
  },
  {
   "cell_type": "code",
   "execution_count": 7,
   "metadata": {},
   "outputs": [
    {
     "data": {
      "text/plain": [
       "createNetwork! (generic function with 1 method)"
      ]
     },
     "execution_count": 7,
     "metadata": {},
     "output_type": "execute_result"
    }
   ],
   "source": [
    "# Function takes an empty network and a tuple of layers\n",
    "# to create bias vectors and weight matricies of \n",
    "# appropriate sizes\n",
    "\n",
    "function createNetwork!(network::NeuralNetwork,layers::Tuple)\n",
    "    if length(layers) < 2\n",
    "        error(\"Network needs at least 2 layers\")\n",
    "    end\n",
    "    for i in 1:length(layers)-1\n",
    "        weightMatrix = randn(layers[i+1],layers[i])\n",
    "        push!(network.weights,weightMatrix)\n",
    "        biasVector = randn(layers[i+1])\n",
    "        push!(network.biases,biasVector)\n",
    "    end\n",
    " end"
   ]
  },
  {
   "cell_type": "code",
   "execution_count": 6,
   "metadata": {},
   "outputs": [
    {
     "data": {
      "text/plain": [
       "sigmoid (generic function with 1 method)"
      ]
     },
     "execution_count": 6,
     "metadata": {},
     "output_type": "execute_result"
    }
   ],
   "source": [
    "sigmoid(x::Real) = 1/(1 + exp(-x))"
   ]
  },
  {
   "cell_type": "code",
   "execution_count": 36,
   "metadata": {},
   "outputs": [
    {
     "data": {
      "text/plain": [
       "feedForward (generic function with 2 methods)"
      ]
     },
     "execution_count": 36,
     "metadata": {},
     "output_type": "execute_result"
    }
   ],
   "source": [
    "# Function takes a network and feeds an input vector through\n",
    "# to return an answer vector. Function also returns list of\n",
    "# z = (W*a + b)\n",
    "\n",
    "function feedForward(network::NeuralNetwork, input::Array{Real,1})\n",
    "    a = input\n",
    "    z::Array{Real,1} = []\n",
    "    zList::Array{Array{Real,1},1} = []\n",
    "    for (W,b) in zip(network.weights,network.biases)\n",
    "        z = W*a + b\n",
    "        push!(zList,z)\n",
    "        a = sigmoid.(z)\n",
    "    end\n",
    "    return a, zList\n",
    "end\n",
    "\n",
    "function feedForward(network::NeuralNetwork, input::Array{Float64,1})\n",
    "    a = input\n",
    "    z::Array{Real,1} = []\n",
    "    zList::Array{Array{Real,1},1} = []\n",
    "    for (W,b) in zip(network.weights,network.biases)\n",
    "        z = W*a + b\n",
    "        push!(zList,z)\n",
    "        a = sigmoid.(z)\n",
    "    end\n",
    "    return a, zList\n",
    "end"
   ]
  },
  {
   "cell_type": "code",
   "execution_count": 9,
   "metadata": {},
   "outputs": [
    {
     "data": {
      "text/plain": [
       "NeuralNetwork(Array{Real,2}[], Array{Real,1}[])"
      ]
     },
     "execution_count": 9,
     "metadata": {},
     "output_type": "execute_result"
    }
   ],
   "source": [
    "a = []\n",
    "b = []\n",
    "net = NeuralNetwork(a,b)"
   ]
  },
  {
   "cell_type": "code",
   "execution_count": 10,
   "metadata": {},
   "outputs": [],
   "source": [
    "createNetwork!(net,(10,5,2))"
   ]
  },
  {
   "cell_type": "code",
   "execution_count": 17,
   "metadata": {},
   "outputs": [
    {
     "name": "stdout",
     "output_type": "stream",
     "text": [
      "net.weights[1] = Real[0.36607 0.593236 0.980671 0.420918 -1.69843 -0.158665 1.32067 0.328645 0.0195169 -0.367809; -2.21184 -0.660388 0.548195 -0.288857 -0.643941 -0.627414 -0.811984 -1.3147 0.692905 1.48334; 1.87807 0.955401 -0.871285 0.356244 0.182005 0.496059 -1.47249 -2.71532 -2.20659 0.414059; 0.983847 -0.976894 1.40184 0.208301 -1.57896 0.191837 1.35068 -0.515207 1.15375 0.483845; 0.861713 0.460516 0.0484328 -0.52852 1.35787 -0.2797 0.434401 -1.32005 -0.0151014 0.941632]\n"
     ]
    },
    {
     "data": {
      "text/plain": [
       "5×10 Array{Real,2}:\n",
       "  0.36607    0.593236   0.980671   …   0.328645   0.0195169  -0.367809\n",
       " -2.21184   -0.660388   0.548195      -1.3147     0.692905    1.48334 \n",
       "  1.87807    0.955401  -0.871285      -2.71532   -2.20659     0.414059\n",
       "  0.983847  -0.976894   1.40184       -0.515207   1.15375     0.483845\n",
       "  0.861713   0.460516   0.0484328     -1.32005   -0.0151014   0.941632"
      ]
     },
     "execution_count": 17,
     "metadata": {},
     "output_type": "execute_result"
    }
   ],
   "source": [
    "@show net.weights[1]"
   ]
  },
  {
   "cell_type": "code",
   "execution_count": 12,
   "metadata": {},
   "outputs": [
    {
     "name": "stdout",
     "output_type": "stream",
     "text": [
      "net.biases = Array{Real,1}[[-1.90152, -2.21459, 0.152878, 1.77312, -1.28787], [2.4258, -0.492412]]\n"
     ]
    },
    {
     "data": {
      "text/plain": [
       "2-element Array{Array{Real,1},1}:\n",
       " [-1.90152, -2.21459, 0.152878, 1.77312, -1.28787]\n",
       " [2.4258, -0.492412]                              "
      ]
     },
     "execution_count": 12,
     "metadata": {},
     "output_type": "execute_result"
    }
   ],
   "source": [
    "@show net.biases"
   ]
  },
  {
   "cell_type": "code",
   "execution_count": 13,
   "metadata": {},
   "outputs": [
    {
     "data": {
      "text/plain": [
       "10-element Array{Float64,1}:\n",
       "  0.07594708859914898\n",
       " -0.3918418389056122 \n",
       " -1.1887650980360773 \n",
       " -1.3328730817855237 \n",
       "  0.8462391656741944 \n",
       " -1.1112399837149058 \n",
       " -2.288933813867751  \n",
       "  1.5850702386726954 \n",
       "  0.1783612722872109 \n",
       "  0.47462829492369074"
      ]
     },
     "execution_count": 13,
     "metadata": {},
     "output_type": "execute_result"
    }
   ],
   "source": [
    "t = randn(10)"
   ]
  },
  {
   "cell_type": "code",
   "execution_count": 37,
   "metadata": {},
   "outputs": [
    {
     "data": {
      "text/plain": [
       "([0.895897, 0.344886], Array{Real,1}[[-7.76704, -1.63589, -1.04574, -4.73566, -1.93856], [2.15244, -0.641595]])"
      ]
     },
     "execution_count": 37,
     "metadata": {},
     "output_type": "execute_result"
    }
   ],
   "source": [
    "v, l = feedForward(net,t)"
   ]
  },
  {
   "cell_type": "code",
   "execution_count": 23,
   "metadata": {},
   "outputs": [
    {
     "data": {
      "text/html": [
       "feedForward(network::<b>NeuralNetwork</b>, input::<b>Array{Float64,1}</b>) in Main at In[21]:13"
      ],
      "text/plain": [
       "feedForward(network::NeuralNetwork, input::Array{Float64,1}) in Main at In[21]:13"
      ]
     },
     "execution_count": 23,
     "metadata": {},
     "output_type": "execute_result"
    }
   ],
   "source": [
    "@which feedForward(net,t)"
   ]
  },
  {
   "cell_type": "code",
   "execution_count": 38,
   "metadata": {},
   "outputs": [
    {
     "name": "stdout",
     "output_type": "stream",
     "text": [
      "l = Array{Real,1}[[-7.76704, -1.63589, -1.04574, -4.73566, -1.93856], [2.15244, -0.641595]]\n"
     ]
    },
    {
     "data": {
      "text/plain": [
       "2-element Array{Array{Real,1},1}:\n",
       " [-7.76704, -1.63589, -1.04574, -4.73566, -1.93856]\n",
       " [2.15244, -0.641595]                              "
      ]
     },
     "execution_count": 38,
     "metadata": {},
     "output_type": "execute_result"
    }
   ],
   "source": [
    "@show l"
   ]
  },
  {
   "cell_type": "code",
   "execution_count": null,
   "metadata": {},
   "outputs": [],
   "source": []
  }
 ],
 "metadata": {
  "kernelspec": {
   "display_name": "Julia 1.0.3",
   "language": "julia",
   "name": "julia-1.0"
  },
  "language_info": {
   "file_extension": ".jl",
   "mimetype": "application/julia",
   "name": "julia",
   "version": "1.0.3"
  }
 },
 "nbformat": 4,
 "nbformat_minor": 2
}
